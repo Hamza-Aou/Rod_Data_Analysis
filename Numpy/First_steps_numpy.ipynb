{
 "cells": [
  {
   "cell_type": "markdown",
   "id": "6e0c834f-b724-4e07-a341-f334c9f87746",
   "metadata": {
    "jp-MarkdownHeadingCollapsed": true,
    "tags": []
   },
   "source": [
    "# Introduction à Numpy"
   ]
  },
  {
   "cell_type": "code",
   "execution_count": 1,
   "id": "06556eed-7806-45f9-a27c-cfafacf4a610",
   "metadata": {},
   "outputs": [
    {
     "name": "stdout",
     "output_type": "stream",
     "text": [
      "[['1986' 'Western Pacific' 'Viet Nam' 'Wine' '0']\n",
      " ['1986' 'Americas' 'Uruguay' 'Other' '0.5']\n",
      " ['1985' 'Africa' \"Cte d'Ivoire\" 'Wine' '1.62']\n",
      " ...\n",
      " ['1986' 'Europe' 'Switzerland' 'Spirits' '2.54']\n",
      " ['1987' 'Western Pacific' 'Papua New Guinea' 'Other' '0']\n",
      " ['1986' 'Africa' 'Swaziland' 'Other' '5.15']]\n"
     ]
    }
   ],
   "source": [
    "import numpy as np\n",
    "world_alcohol = np.genfromtxt(\"world_alcohol.csv\", delimiter =\",\", dtype =\"U75\", skip_header =1)\n",
    "print (world_alcohol)"
   ]
  },
  {
   "cell_type": "code",
   "execution_count": 2,
   "id": "87fe39fe-1b22-4668-a694-9308db4c98fd",
   "metadata": {},
   "outputs": [
    {
     "name": "stdout",
     "output_type": "stream",
     "text": [
      "1.62\n",
      "Uruguay\n"
     ]
    }
   ],
   "source": [
    "ivoire_1985 = world_alcohol[2,-1]\n",
    "second_country = world_alcohol [1,2]\n",
    "print (ivoire_1985)\n",
    "print (second_country)"
   ]
  },
  {
   "cell_type": "code",
   "execution_count": 3,
   "id": "9e2b37c7-b037-46a8-86c5-0ff951acb9dd",
   "metadata": {},
   "outputs": [
    {
     "name": "stdout",
     "output_type": "stream",
     "text": [
      "['Viet Nam' 'Uruguay' \"Cte d'Ivoire\" ... 'Switzerland' 'Papua New Guinea'\n",
      " 'Swaziland']\n",
      "['0' '0.5' '1.62' ... '2.54' '0' '5.15']\n"
     ]
    }
   ],
   "source": [
    "countries = world_alcohol [:,2]\n",
    "alcohol_comsumption = world_alcohol [:,-1]\n",
    "print (countries)\n",
    "print (alcohol_comsumption)"
   ]
  },
  {
   "cell_type": "code",
   "execution_count": 4,
   "id": "d602912d-c8f8-48ee-9bb3-d209dd2913a3",
   "metadata": {},
   "outputs": [
    {
     "name": "stdout",
     "output_type": "stream",
     "text": [
      "[['1986' 'Western Pacific']\n",
      " ['1986' 'Americas']\n",
      " ['1985' 'Africa']\n",
      " ...\n",
      " ['1986' 'Europe']\n",
      " ['1987' 'Western Pacific']\n",
      " ['1986' 'Africa']]\n",
      "['1986' '1986' '1985' '1986' '1987' '1987' '1987' '1985' '1986' '1984']\n",
      "[['1986' 'Western Pacific' 'Viet Nam' 'Wine' '0']\n",
      " ['1986' 'Americas' 'Uruguay' 'Other' '0.5']\n",
      " ['1985' 'Africa' \"Cte d'Ivoire\" 'Wine' '1.62']\n",
      " ['1986' 'Americas' 'Colombia' 'Beer' '4.27']\n",
      " ['1987' 'Americas' 'Saint Kitts and Nevis' 'Beer' '1.98']\n",
      " ['1987' 'Americas' 'Guatemala' 'Other' '0']\n",
      " ['1987' 'Africa' 'Mauritius' 'Wine' '0.13']\n",
      " ['1985' 'Africa' 'Angola' 'Spirits' '0.39']\n",
      " ['1986' 'Americas' 'Antigua and Barbuda' 'Spirits' '1.55']\n",
      " ['1984' 'Africa' 'Nigeria' 'Other' '6.1']]\n",
      "[['Western Pacific' 'Viet Nam']\n",
      " ['Americas' 'Uruguay']\n",
      " ['Africa' \"Cte d'Ivoire\"]\n",
      " ['Americas' 'Colombia']\n",
      " ['Americas' 'Saint Kitts and Nevis']\n",
      " ['Americas' 'Guatemala']\n",
      " ['Africa' 'Mauritius']\n",
      " ['Africa' 'Angola']\n",
      " ['Americas' 'Antigua and Barbuda']\n",
      " ['Africa' 'Nigeria']\n",
      " ['Africa' 'Botswana']\n",
      " ['Americas' 'Guatemala']\n",
      " ['Western Pacific' \"Lao People's Democratic Republic\"]\n",
      " ['Eastern Mediterranean' 'Afghanistan']\n",
      " ['Western Pacific' 'Viet Nam']\n",
      " ['Africa' 'Guinea-Bissau']\n",
      " ['Americas' 'Costa Rica']\n",
      " ['Africa' 'Seychelles']\n",
      " ['Europe' 'Norway']\n",
      " ['Africa' 'Kenya']]\n"
     ]
    }
   ],
   "source": [
    "first_two_columns = world_alcohol[:, :2]\n",
    "first_ten_years = world_alcohol [:10, 0]\n",
    "first_ten_row = world_alcohol [:10,:]\n",
    "first_tewenty_regions = world_alcohol [:20, 1:3]\n",
    "\n",
    "print (first_two_columns)\n",
    "print (first_ten_years)\n",
    "print (first_ten_row)\n",
    "print (first_tewenty_regions)"
   ]
  },
  {
   "cell_type": "markdown",
   "id": "ad837b6e-c354-4511-b7c3-33bb7634eb42",
   "metadata": {
    "jp-MarkdownHeadingCollapsed": true,
    "tags": []
   },
   "source": [
    "# Recherche valeur "
   ]
  },
  {
   "cell_type": "code",
   "execution_count": 5,
   "id": "dcf9340c-ca63-455c-91e2-e568cc3cf307",
   "metadata": {},
   "outputs": [
    {
     "name": "stdout",
     "output_type": "stream",
     "text": [
      "[False False False ... False False False]\n"
     ]
    }
   ],
   "source": [
    "countries_canada = world_alcohol [:,2] == \"Canada\"\n",
    "print (countries_canada )"
   ]
  },
  {
   "cell_type": "code",
   "execution_count": 6,
   "id": "167f1407-45cc-4bd9-aaa2-209524994e04",
   "metadata": {},
   "outputs": [
    {
     "name": "stdout",
     "output_type": "stream",
     "text": [
      "[False False False ... False False False]\n"
     ]
    }
   ],
   "source": [
    "years_1984 = world_alcohol [:,0] == \"1984\"\n",
    "print (years_1984)"
   ]
  },
  {
   "cell_type": "code",
   "execution_count": 7,
   "id": "4d246bd3-9c5d-40df-9a7d-a4d633eccebb",
   "metadata": {},
   "outputs": [
    {
     "name": "stdout",
     "output_type": "stream",
     "text": [
      "[['1984' 'Africa' 'Algeria' 'Spirits' '0.01']\n",
      " ['1987' 'Africa' 'Algeria' 'Beer' '0.17']\n",
      " ['1987' 'Africa' 'Algeria' 'Spirits' '0.01']\n",
      " ['1986' 'Africa' 'Algeria' 'Wine' '0.1']\n",
      " ['1984' 'Africa' 'Algeria' 'Other' '0']\n",
      " ['1989' 'Africa' 'Algeria' 'Beer' '0.16']\n",
      " ['1989' 'Africa' 'Algeria' 'Spirits' '0.01']\n",
      " ['1989' 'Africa' 'Algeria' 'Wine' '0.23']\n",
      " ['1986' 'Africa' 'Algeria' 'Spirits' '0.01']\n",
      " ['1984' 'Africa' 'Algeria' 'Wine' '0.12']\n",
      " ['1985' 'Africa' 'Algeria' 'Beer' '0.19']\n",
      " ['1985' 'Africa' 'Algeria' 'Other' '0']\n",
      " ['1986' 'Africa' 'Algeria' 'Beer' '0.18']\n",
      " ['1985' 'Africa' 'Algeria' 'Wine' '0.11']\n",
      " ['1986' 'Africa' 'Algeria' 'Other' '0']\n",
      " ['1989' 'Africa' 'Algeria' 'Other' '0']\n",
      " ['1987' 'Africa' 'Algeria' 'Other' '0']\n",
      " ['1984' 'Africa' 'Algeria' 'Beer' '0.2']\n",
      " ['1985' 'Africa' 'Algeria' 'Spirits' '0.01']\n",
      " ['1987' 'Africa' 'Algeria' 'Wine' '0.1']]\n"
     ]
    }
   ],
   "source": [
    "country_is_algeria = world_alcohol [:,2]==\"Algeria\"\n",
    "country_algeria = world_alcohol[country_is_algeria]\n",
    "print (country_algeria)"
   ]
  },
  {
   "cell_type": "code",
   "execution_count": 8,
   "id": "d07218af-4bed-43d5-ae39-96ec10e933a0",
   "metadata": {},
   "outputs": [
    {
     "name": "stdout",
     "output_type": "stream",
     "text": [
      "[['1984' 'Africa' 'Nigeria' 'Other' '6.1']\n",
      " ['1984' 'Eastern Mediterranean' 'Afghanistan' 'Other' '0']\n",
      " ['1984' 'Americas' 'Costa Rica' 'Wine' '0.06']\n",
      " ...\n",
      " ['1984' 'Europe' 'Latvia' 'Spirits' '7.5']\n",
      " ['1984' 'Africa' 'Angola' 'Wine' '0.57']\n",
      " ['1984' 'Africa' 'Central African Republic' 'Wine' '0.46']]\n"
     ]
    }
   ],
   "source": [
    "year_1984 = world_alcohol[world_alcohol [:,0] == \"1984\"]\n",
    "print (year_1984)"
   ]
  },
  {
   "cell_type": "markdown",
   "id": "fc8c6647-ab29-4b57-8a14-8cdea82e27f5",
   "metadata": {
    "jp-MarkdownHeadingCollapsed": true,
    "tags": []
   },
   "source": [
    "# Recherche valeur avec conditions "
   ]
  },
  {
   "cell_type": "code",
   "execution_count": 9,
   "id": "48986ad1-b27c-4aa2-b739-d1698c3b48b2",
   "metadata": {},
   "outputs": [
    {
     "name": "stdout",
     "output_type": "stream",
     "text": [
      "[['1986' 'Africa' 'Algeria' 'Wine' '0.1']\n",
      " ['1986' 'Africa' 'Algeria' 'Spirits' '0.01']\n",
      " ['1986' 'Africa' 'Algeria' 'Beer' '0.18']\n",
      " ['1986' 'Africa' 'Algeria' 'Other' '0']]\n"
     ]
    }
   ],
   "source": [
    "is_algeria_and_1986 = (world_alcohol [:,2] == \"Algeria\") & (world_alcohol[:,0]==\"1986\")\n",
    "rows_with_algeria_and_1986 = world_alcohol[is_algeria_and_1986]\n",
    "print (rows_with_algeria_and_1986)"
   ]
  },
  {
   "cell_type": "markdown",
   "id": "540b47ea-117b-4bd9-9b1c-0b423f17106b",
   "metadata": {
    "jp-MarkdownHeadingCollapsed": true,
    "tags": []
   },
   "source": [
    "# Remplacer une valeur "
   ]
  },
  {
   "cell_type": "code",
   "execution_count": 10,
   "id": "915bf254-dd88-4498-bff9-f9baed1a2f7e",
   "metadata": {},
   "outputs": [
    {
     "name": "stdout",
     "output_type": "stream",
     "text": [
      "[['2018' 'Western Pacific' 'Viet Nam' 'Wine' '0']\n",
      " ['2018' 'Americas' 'Uruguay' 'Other' '0.5']\n",
      " ['1985' 'Africa' \"Cte d'Ivoire\" 'Wine' '1.62']\n",
      " ...\n",
      " ['2018' 'Europe' 'Switzerland' 'Spirits' '2.54']\n",
      " ['1987' 'Western Pacific' 'Papua New Guinea' 'Other' '0']\n",
      " ['2018' 'Africa' 'Swaziland' 'Other' '5.15']]\n"
     ]
    }
   ],
   "source": [
    "world_alcohol_2 = world_alcohol\n",
    "world_alcohol_2[world_alcohol_2[:,0]==\"1986\", 0] =\"2018\"\n",
    "print (world_alcohol_2)"
   ]
  },
  {
   "cell_type": "code",
   "execution_count": 11,
   "id": "f87e5e97-4b6d-4376-be02-6c2855443d25",
   "metadata": {},
   "outputs": [
    {
     "name": "stdout",
     "output_type": "stream",
     "text": [
      "[['2018' 'Western Pacific' 'Viet Nam' 'Beer' '0']\n",
      " ['2018' 'Americas' 'Uruguay' 'Other' '0.5']\n",
      " ['1985' 'Africa' \"Cte d'Ivoire\" 'Beer' '1.62']\n",
      " ...\n",
      " ['2018' 'Europe' 'Switzerland' 'Spirits' '2.54']\n",
      " ['1987' 'Western Pacific' 'Papua New Guinea' 'Other' '0']\n",
      " ['2018' 'Africa' 'Swaziland' 'Other' '5.15']]\n"
     ]
    }
   ],
   "source": [
    "world_alcohol_2 [world_alcohol_2[:,-2]==\"Wine\",-2] =\"Beer\"\n",
    "print (world_alcohol_2)"
   ]
  },
  {
   "cell_type": "markdown",
   "id": "7e2ebcaf-1bd6-4423-bb9c-8cebf812f028",
   "metadata": {
    "tags": []
   },
   "source": [
    "# Remplacer une valeur vide"
   ]
  },
  {
   "cell_type": "code",
   "execution_count": null,
   "id": "c5bf5488-995b-4003-a4ef-ae7c93329cf6",
   "metadata": {},
   "outputs": [],
   "source": []
  },
  {
   "cell_type": "code",
   "execution_count": 12,
   "id": "95c00519-b5e6-4514-83f1-57ddf91cac47",
   "metadata": {},
   "outputs": [
    {
     "name": "stdout",
     "output_type": "stream",
     "text": [
      "['2018' 'Europe' 'Italy' 'Other' '0']\n"
     ]
    }
   ],
   "source": [
    "world_alcohol[world_alcohol[:,-1] ==\"\",-1]=\"0\"\n",
    "print (world_alcohol[29,:])"
   ]
  },
  {
   "cell_type": "markdown",
   "id": "7d5484cb-a866-4782-8a2f-00b05a7612f0",
   "metadata": {
    "jp-MarkdownHeadingCollapsed": true,
    "tags": []
   },
   "source": [
    "# Convetir type de données"
   ]
  },
  {
   "cell_type": "code",
   "execution_count": 13,
   "id": "6222248a-7b09-4c76-9a10-4c126333a3ec",
   "metadata": {},
   "outputs": [
    {
     "name": "stdout",
     "output_type": "stream",
     "text": [
      "[0.   0.5  1.62 ... 2.54 0.   5.15]\n"
     ]
    }
   ],
   "source": [
    "alcohol_consumption = world_alcohol [:,-1]\n",
    "alcohol_consumption = alcohol_consumption .astype(float)\n",
    "print (alcohol_consumption)"
   ]
  },
  {
   "cell_type": "markdown",
   "id": "d8e72685-3566-43f3-a9e8-7e9645c72f50",
   "metadata": {
    "jp-MarkdownHeadingCollapsed": true,
    "tags": []
   },
   "source": [
    "# Calculs"
   ]
  },
  {
   "cell_type": "code",
   "execution_count": 14,
   "id": "90c60de9-f796-42d0-85b7-7731d5eb7dfd",
   "metadata": {},
   "outputs": [
    {
     "name": "stdout",
     "output_type": "stream",
     "text": [
      "3908.96\n"
     ]
    }
   ],
   "source": [
    "total_alcohol = alcohol_consumption.sum()\n",
    "print (total_alcohol)"
   ]
  },
  {
   "cell_type": "code",
   "execution_count": 15,
   "id": "6c61e8a5-d6c0-4457-8b73-891c75666824",
   "metadata": {},
   "outputs": [
    {
     "name": "stdout",
     "output_type": "stream",
     "text": [
      "1.2001719373656738\n"
     ]
    }
   ],
   "source": [
    "average_alcohol = alcohol_consumption.mean()\n",
    "print (average_alcohol)"
   ]
  },
  {
   "cell_type": "markdown",
   "id": "026d58fd-5f8d-4ee3-b5e0-41bcb29fbacf",
   "metadata": {},
   "source": [
    "# Exercice Canada"
   ]
  },
  {
   "cell_type": "code",
   "execution_count": 18,
   "id": "0faa888f-9659-4bb5-8c12-724b171046dc",
   "metadata": {},
   "outputs": [
    {
     "name": "stdout",
     "output_type": "stream",
     "text": [
      "[['2018' 'Americas' 'Canada' 'Other' '0']\n",
      " ['2018' 'Americas' 'Canada' 'Spirits' '3.11']\n",
      " ['2018' 'Americas' 'Canada' 'Beer' '4.87']\n",
      " ['2018' 'Americas' 'Canada' 'Beer' '1.33']]\n"
     ]
    }
   ],
   "source": [
    "canada_1986 = (world_alcohol[:, 0 ]== \"2018\") & (world_alcohol[:, 2] == \"Canada\")\n",
    "print (world_alcohol[canada_1986,:])"
   ]
  },
  {
   "cell_type": "code",
   "execution_count": 20,
   "id": "9576eab4-fc3d-4048-9409-80832857e0e1",
   "metadata": {},
   "outputs": [
    {
     "name": "stdout",
     "output_type": "stream",
     "text": [
      "False\n"
     ]
    }
   ],
   "source": [
    "canada_alcohol = canada_1986[-1]\n",
    "print (canada_alcohol)"
   ]
  },
  {
   "cell_type": "code",
   "execution_count": null,
   "id": "3ac2b1dd-288f-4514-ac70-aa2266b56432",
   "metadata": {},
   "outputs": [],
   "source": []
  }
 ],
 "metadata": {
  "kernelspec": {
   "display_name": "Python 3 (ipykernel)",
   "language": "python",
   "name": "python3"
  },
  "language_info": {
   "codemirror_mode": {
    "name": "ipython",
    "version": 3
   },
   "file_extension": ".py",
   "mimetype": "text/x-python",
   "name": "python",
   "nbconvert_exporter": "python",
   "pygments_lexer": "ipython3",
   "version": "3.9.12"
  }
 },
 "nbformat": 4,
 "nbformat_minor": 5
}
