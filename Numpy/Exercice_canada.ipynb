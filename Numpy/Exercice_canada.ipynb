{
 "cells": [
  {
   "cell_type": "code",
   "execution_count": 1,
   "id": "5fa58483-e3f5-4d0e-a783-c62792a6b574",
   "metadata": {},
   "outputs": [
    {
     "data": {
      "text/plain": [
       "array([['1986', 'Western Pacific', 'Viet Nam', 'Wine', '0'],\n",
       "       ['1986', 'Americas', 'Uruguay', 'Other', '0.5'],\n",
       "       ['1985', 'Africa', \"Cte d'Ivoire\", 'Wine', '1.62'],\n",
       "       ...,\n",
       "       ['1986', 'Europe', 'Switzerland', 'Spirits', '2.54'],\n",
       "       ['1987', 'Western Pacific', 'Papua New Guinea', 'Other', '0'],\n",
       "       ['1986', 'Africa', 'Swaziland', 'Other', '5.15']], dtype='<U75')"
      ]
     },
     "execution_count": 1,
     "metadata": {},
     "output_type": "execute_result"
    }
   ],
   "source": [
    "import numpy as np\n",
    "world_alcohol = np.genfromtxt(\"world_alcohol.csv\", delimiter =\",\" , dtype =\"U75\", skip_header = 1)\n",
    "world_alcohol"
   ]
  },
  {
   "cell_type": "code",
   "execution_count": 2,
   "id": "887478e4-262a-4b79-b889-52cbaef3e0e3",
   "metadata": {},
   "outputs": [
    {
     "data": {
      "text/plain": [
       "array([['1986', 'Americas', 'Canada', 'Other', ''],\n",
       "       ['1986', 'Americas', 'Canada', 'Spirits', '3.11'],\n",
       "       ['1986', 'Americas', 'Canada', 'Beer', '4.87'],\n",
       "       ['1986', 'Americas', 'Canada', 'Wine', '1.33']], dtype='<U75')"
      ]
     },
     "execution_count": 2,
     "metadata": {},
     "output_type": "execute_result"
    }
   ],
   "source": [
    "canada_rows = (world_alcohol [:,0]== \"1986\") & (world_alcohol[:,2]==\"Canada\")\n",
    "canada_1986 = world_alcohol[canada_rows,:]\n",
    "canada_1986"
   ]
  },
  {
   "cell_type": "code",
   "execution_count": 3,
   "id": "93f43a0a-a3bb-4a09-a9df-00927352b6cb",
   "metadata": {},
   "outputs": [
    {
     "data": {
      "text/plain": [
       "array([0.  , 3.11, 4.87, 1.33])"
      ]
     },
     "execution_count": 3,
     "metadata": {},
     "output_type": "execute_result"
    }
   ],
   "source": [
    "canada_alcohol = canada_1986[:,-1]\n",
    "canada_alcohol[canada_alcohol==\"\"]=\"0\"\n",
    "canada_alcohol= canada_alcohol.astype(float)\n",
    "canada_alcohol"
   ]
  },
  {
   "cell_type": "code",
   "execution_count": 4,
   "id": "65f8449b-192b-474e-adff-0d5eea604ee0",
   "metadata": {},
   "outputs": [
    {
     "data": {
      "text/plain": [
       "9.31"
      ]
     },
     "execution_count": 4,
     "metadata": {},
     "output_type": "execute_result"
    }
   ],
   "source": [
    "total_canadian_drinking = canada_alcohol.sum()\n",
    "total_canadian_drinking"
   ]
  },
  {
   "cell_type": "code",
   "execution_count": null,
   "id": "c4dc4196-fa7c-4f26-9815-7c100dd11f59",
   "metadata": {},
   "outputs": [],
   "source": []
  }
 ],
 "metadata": {
  "kernelspec": {
   "display_name": "Python 3 (ipykernel)",
   "language": "python",
   "name": "python3"
  },
  "language_info": {
   "codemirror_mode": {
    "name": "ipython",
    "version": 3
   },
   "file_extension": ".py",
   "mimetype": "text/x-python",
   "name": "python",
   "nbconvert_exporter": "python",
   "pygments_lexer": "ipython3",
   "version": "3.9.12"
  }
 },
 "nbformat": 4,
 "nbformat_minor": 5
}
