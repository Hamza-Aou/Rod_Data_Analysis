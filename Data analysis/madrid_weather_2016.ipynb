{
 "cells": [
  {
   "cell_type": "code",
   "execution_count": 1,
   "id": "42f88696-fd52-4674-81ca-34bd7f90a1b2",
   "metadata": {},
   "outputs": [
    {
     "name": "stdout",
     "output_type": "stream",
     "text": [
      "{'Thomas': 16, 'Matt': 15, 'Sarah': 17, 'Nina': 14}\n"
     ]
    }
   ],
   "source": [
    "scores = {\"Thomas\":16, \"Matt\":15, \"Sarah\":17, \"Nina\":14}\n",
    "print (scores)"
   ]
  },
  {
   "cell_type": "code",
   "execution_count": 2,
   "id": "28c2600a-0d45-424b-a067-3eb37b2e6490",
   "metadata": {},
   "outputs": [
    {
     "name": "stdout",
     "output_type": "stream",
     "text": [
      "{'Thomas': 10, 'Matt': 15, 'Sarah': 17, 'Nina': 16, 'Marie': 15}\n",
      "True\n",
      "False\n"
     ]
    }
   ],
   "source": [
    "scores[\"Marie\"]=15\n",
    "scores[\"Nina\"]= scores[\"Nina\"] + 2\n",
    "scores [\"Thomas\"]=10\n",
    "print (scores)\n",
    "found_matt = \"Matt\" in scores\n",
    "print (found_matt)\n",
    "found_tom= \"Tom\" in scores\n",
    "print (found_tom)\n"
   ]
  },
  {
   "cell_type": "code",
   "execution_count": 3,
   "id": "44f0b0fe-f5c9-4462-aefb-af7462b036b3",
   "metadata": {},
   "outputs": [
    {
     "name": "stdout",
     "output_type": "stream",
     "text": [
      "{'Soleil': 210, 'Pluie': 25, 'Nuage': 125, 'Nuage-Pluie': 4, 'Orage': 1}\n"
     ]
    }
   ],
   "source": [
    "data = open (\"madrid_weather_2016.csv\",\"r\").read()\n",
    "weather_data = data.split (\"\\n\")\n",
    "data_details=[]\n",
    "for element in weather_data:\n",
    "    data_details.append (element.split (\",\"))\n",
    "data_details.pop(0)\n",
    "weather =[]\n",
    "for element in data_details:\n",
    "    weather.append(element [1])\n",
    "weather_counts = {}\n",
    "for element in weather:\n",
    "    if element in weather_counts:\n",
    "        weather_counts[element]+=1\n",
    "    else:\n",
    "        weather_counts[element]=1\n",
    "print (weather_counts)"
   ]
  },
  {
   "cell_type": "code",
   "execution_count": null,
   "id": "84ff346f-1a1d-4d04-a0e1-a628c8d11725",
   "metadata": {},
   "outputs": [],
   "source": []
  }
 ],
 "metadata": {
  "kernelspec": {
   "display_name": "Python 3 (ipykernel)",
   "language": "python",
   "name": "python3"
  },
  "language_info": {
   "codemirror_mode": {
    "name": "ipython",
    "version": 3
   },
   "file_extension": ".py",
   "mimetype": "text/x-python",
   "name": "python",
   "nbconvert_exporter": "python",
   "pygments_lexer": "ipython3",
   "version": "3.9.12"
  }
 },
 "nbformat": 4,
 "nbformat_minor": 5
}
