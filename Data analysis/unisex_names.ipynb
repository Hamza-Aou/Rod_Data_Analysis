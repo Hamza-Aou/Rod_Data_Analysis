{
 "cells": [
  {
   "cell_type": "code",
   "execution_count": 1,
   "id": "4252fd28-5f22-4931-b5d5-37b768938176",
   "metadata": {},
   "outputs": [
    {
     "name": "stdout",
     "output_type": "stream",
     "text": [
      "['Casey,176544.328149', 'Riley,154860.665173', 'Jessie,136381.830656', 'Jackie,132928.78874', 'Avery,121797.419516', 'Jaime,109870.18729', 'Peyton,94896.395216', 'Kerry,88963.92625', 'Jody,80400.519199', 'Kendall,79210.873961']\n"
     ]
    }
   ],
   "source": [
    "names = open (\"unisex_names.csv\", \"r\").read()\n",
    "names_list = names.split(\"\\n\")\n",
    "print (names_list [:10])"
   ]
  },
  {
   "cell_type": "code",
   "execution_count": 2,
   "id": "640fafc6-1516-4d98-9fa6-7973f2abe7ea",
   "metadata": {},
   "outputs": [
    {
     "name": "stdout",
     "output_type": "stream",
     "text": [
      "[['Casey', '176544.328149'], ['Riley', '154860.665173'], ['Jessie', '136381.830656'], ['Jackie', '132928.78874'], ['Avery', '121797.419516']]\n"
     ]
    }
   ],
   "source": [
    "names_data =[]\n",
    "for element in names_list:\n",
    "    names_data.append (element .split(\",\"))\n",
    "print (names_data [:5])"
   ]
  },
  {
   "cell_type": "code",
   "execution_count": 19,
   "id": "b686ce5f-5ed7-47a8-b21f-a547715db831",
   "metadata": {},
   "outputs": [
    {
     "name": "stdout",
     "output_type": "stream",
     "text": [
      "[['Casey', 176544.328149], ['Riley', 154860.665173], ['Jessie', 136381.830656], ['Jackie', 132928.78874], ['Avery', 121797.419516], ['Jaime', 109870.18729], ['Peyton', 94896.395216], ['Kerry', 88963.92625], ['Jody', 80400.519199], ['Kendall', 79210.873961]]\n"
     ]
    }
   ],
   "source": [
    "numerical_list = []\n",
    "\n",
    "for element in names_data:\n",
    "    numerical_list.extend([[element [0], float (element [1])]])\n",
    "\n",
    "print (numerical_list [:10])"
   ]
  },
  {
   "cell_type": "code",
   "execution_count": 22,
   "id": "9e1eb927-2c3f-4fa3-b940-c99a2187966b",
   "metadata": {},
   "outputs": [
    {
     "name": "stdout",
     "output_type": "stream",
     "text": [
      "['Casey', 'Riley', 'Jessie', 'Jackie', 'Avery', 'Jaime', 'Peyton', 'Kerry', 'Jody', 'Kendall']\n"
     ]
    }
   ],
   "source": [
    "final_list =[]\n",
    "for element in numerical_list:\n",
    "    if element [1]>=1000:\n",
    "        final_list.append (element [0])\n",
    "print (final_list [:10])"
   ]
  },
  {
   "cell_type": "code",
   "execution_count": null,
   "id": "4a86c75d-a2d7-49a5-a71a-50956a3f4435",
   "metadata": {},
   "outputs": [],
   "source": []
  }
 ],
 "metadata": {
  "kernelspec": {
   "display_name": "Python 3 (ipykernel)",
   "language": "python",
   "name": "python3"
  },
  "language_info": {
   "codemirror_mode": {
    "name": "ipython",
    "version": 3
   },
   "file_extension": ".py",
   "mimetype": "text/x-python",
   "name": "python",
   "nbconvert_exporter": "python",
   "pygments_lexer": "ipython3",
   "version": "3.9.12"
  }
 },
 "nbformat": 4,
 "nbformat_minor": 5
}
