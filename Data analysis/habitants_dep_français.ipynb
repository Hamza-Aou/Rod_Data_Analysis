{
 "cells": [
  {
   "cell_type": "code",
   "execution_count": 4,
   "id": "a60e541b-6ffe-4e30-a4d4-0f0c6a06c231",
   "metadata": {},
   "outputs": [
    {
     "name": "stdout",
     "output_type": "stream",
     "text": [
      "[643309, 554040, 353262, 166298, 1098785, 332051, 287775, 158076, 316098, 375065, 289901, 1131812, 2035475, 708407, 152400, 366787, 656046, 318590, 249684, 154100, 545001, 617413, 124948, 384655, 428651, 549155, 514104, 1286908, 616076, 445083, 935393, 752382, 197988, 1556663, 406706, 254845, 175499, 1344579, 234078, 186698, 145213, 246022, 806447, 236577, 384708, 775941, 1617484, 1127333, 1060051, 232802, 619004, 1271938, 270826, 541487, 414090, 774262, 1382766, 688098, 344121, 180016, 343198, 80423, 829156, 518322, 584297, 390252, 317716, 746687, 197763, 764338, 1065894, 221048, 2640622, 838646, 297109, 2243739, 1497668, 661248, 688451, 474842, 1833002, 574229, 583961, 440777, 1400477, 1284107, 1582139, 583641, 396341, 258696, 147647, 1377511, 1221946, 1055745, 566592, 681469, 444347, 386978, 352433, 1449398]\n"
     ]
    }
   ],
   "source": [
    "data = open (\"departements_fr.csv\",\"r\").read()\n",
    "final_data = data.split(\"\\n\")\n",
    "list_dep_pop =[]\n",
    "for element in final_data:\n",
    "    list_dep_pop.append (element.split (\",\"))\n",
    "lst_habitants = []\n",
    "for element in list_dep_pop:\n",
    "    lst_habitants.append (int(element[1]))\n",
    "print (lst_habitants)\n",
    "    "
   ]
  },
  {
   "cell_type": "code",
   "execution_count": 6,
   "id": "c42bd50b-4198-4428-91fb-10144f460cff",
   "metadata": {},
   "outputs": [
    {
     "name": "stdout",
     "output_type": "stream",
     "text": [
      "[1098785, 1131812, 2035475, 1286908, 1556663, 1344579, 1617484, 1127333, 1060051, 1271938, 1382766, 1065894, 2640622, 2243739, 1497668, 1833002, 1400477, 1284107, 1582139, 1377511, 1221946, 1055745, 1449398]\n"
     ]
    }
   ],
   "source": [
    "million_list= []\n",
    "for element in lst_habitants:\n",
    "    if element >1000000:\n",
    "        million_list.append (element)\n",
    "print (million_list)"
   ]
  },
  {
   "cell_type": "code",
   "execution_count": null,
   "id": "f4980db7-e40e-49da-9da6-3fac0b423a17",
   "metadata": {},
   "outputs": [],
   "source": []
  }
 ],
 "metadata": {
  "kernelspec": {
   "display_name": "Python 3 (ipykernel)",
   "language": "python",
   "name": "python3"
  },
  "language_info": {
   "codemirror_mode": {
    "name": "ipython",
    "version": 3
   },
   "file_extension": ".py",
   "mimetype": "text/x-python",
   "name": "python",
   "nbconvert_exporter": "python",
   "pygments_lexer": "ipython3",
   "version": "3.9.12"
  }
 },
 "nbformat": 4,
 "nbformat_minor": 5
}
