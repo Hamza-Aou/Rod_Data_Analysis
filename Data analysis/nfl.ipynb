{
 "cells": [
  {
   "cell_type": "code",
   "execution_count": 1,
   "id": "f7a806d0-f7da-40d4-b1e8-7bf6ac136e0c",
   "metadata": {},
   "outputs": [
    {
     "name": "stdout",
     "output_type": "stream",
     "text": [
      "[['2009', '1', 'Pittsburgh Steelers', 'Tennessee Titans'], ['2009', '1', 'Minnesota Vikings', 'Cleveland Browns'], ['2009', '1', 'New York Giants', 'Washington Redskins'], ['2009', '1', 'San Francisco 49ers', 'Arizona Cardinals'], ['2009', '1', 'Seattle Seahawks', 'St. Louis Rams'], ['2009', '1', 'Philadelphia Eagles', 'Carolina Panthers'], ['2009', '1', 'New York Jets', 'Houston Texans'], ['2009', '1', 'Atlanta Falcons', 'Miami Dolphins'], ['2009', '1', 'Baltimore Ravens', 'Kansas City Chiefs'], ['2009', '1', 'Indianapolis Colts', 'Jacksonville Jaguars'], ['2009', '1', 'New Orleans Saints', 'Detroit Lions'], ['2009', '1', 'Denver Broncos', 'Cincinnati Bengals'], ['2009', '1', 'Green Bay Packers', 'Chicago Bears'], ['2009', '1', 'Dallas Cowboys', 'Tampa Bay Buccaneers'], ['2009', '1', 'New England Patriots', 'Buffalo Bills'], ['2009', '1', 'San Diego Chargers', 'Oakland Raiders'], ['2009', '2', 'New York Giants', 'Dallas Cowboys'], ['2009', '2', 'Chicago Bears', 'Pittsburgh Steelers'], ['2009', '2', 'Oakland Raiders', 'Kansas City Chiefs'], ['2009', '2', 'Washington Redskins', 'St. Louis Rams']]\n"
     ]
    }
   ],
   "source": [
    "import csv\n",
    "f= open (\"nfl.csv\")\n",
    "nfl = csv.reader(f)\n",
    "g= list(nfl)\n",
    "print (g[:20])"
   ]
  },
  {
   "cell_type": "code",
   "execution_count": 8,
   "id": "aff124cf-1ab2-4ced-9f37-3ba31560106f",
   "metadata": {},
   "outputs": [
    {
     "name": "stdout",
     "output_type": "stream",
     "text": [
      "12\n"
     ]
    }
   ],
   "source": [
    "def victoire (année, nom_equipe):\n",
    "    wins = 0\n",
    "    for element in g:\n",
    "        if nom_equipe == element[2] and année == int(element [0]):\n",
    "            wins+=1\n",
    "    return (wins)\n",
    "f = victoire (2012 ,\"San Francisco 49ers\")\n",
    "print (f)"
   ]
  },
  {
   "cell_type": "code",
   "execution_count": null,
   "id": "8c6484db-3b3f-4ba0-8122-c129efceb24b",
   "metadata": {},
   "outputs": [],
   "source": []
  }
 ],
 "metadata": {
  "kernelspec": {
   "display_name": "Python 3 (ipykernel)",
   "language": "python",
   "name": "python3"
  },
  "language_info": {
   "codemirror_mode": {
    "name": "ipython",
    "version": 3
   },
   "file_extension": ".py",
   "mimetype": "text/x-python",
   "name": "python",
   "nbconvert_exporter": "python",
   "pygments_lexer": "ipython3",
   "version": "3.9.12"
  }
 },
 "nbformat": 4,
 "nbformat_minor": 5
}
